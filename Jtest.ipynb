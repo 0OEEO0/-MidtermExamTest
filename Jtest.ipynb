{
  "nbformat": 4,
  "nbformat_minor": 0,
  "metadata": {
    "colab": {
      "provenance": []
    },
    "kernelspec": {
      "name": "python3",
      "display_name": "Python 3"
    },
    "language_info": {
      "name": "python"
    }
  },
  "cells": [
    {
      "cell_type": "code",
      "execution_count": 2,
      "metadata": {
        "colab": {
          "base_uri": "https://localhost:8080/"
        },
        "id": "nb5ZKwfd9XAO",
        "outputId": "395cf842-19e1-4ce7-8c2a-e319f06fd91a"
      },
      "outputs": [
        {
          "output_type": "stream",
          "name": "stdout",
          "text": [
            "ho\n",
            "ho\n",
            "ho\n",
            "ho\n",
            "ho\n",
            "ho\n",
            "ho\n",
            "ho\n",
            "ho\n",
            "ho\n",
            "ha\n"
          ]
        }
      ],
      "source": [
        "for i in range(10):\n",
        "  print(\"ho\")\n",
        "print(\"ha\")"
      ]
    }
  ]
}